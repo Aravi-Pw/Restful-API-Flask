{
  "nbformat": 4,
  "nbformat_minor": 0,
  "metadata": {
    "colab": {
      "provenance": []
    },
    "kernelspec": {
      "name": "python3",
      "display_name": "Python 3"
    },
    "language_info": {
      "name": "python"
    }
  },
  "cells": [
    {
      "cell_type": "markdown",
      "source": [
        "**Restful API & Flask**\n"
      ],
      "metadata": {
        "id": "IQBD0TVviUFF"
      }
    },
    {
      "cell_type": "markdown",
      "source": [
        "1. What is a RESTful API\n",
        "\n",
        "A RESTful API (Representational State Transfer API) is a web service that follows the principles of REST (Representational State Transfer) architecture. It allows communication between client and server using HTTP methods such as GET, POST, PUT, DELETE to perform operations on resources.\n",
        "\n",
        "2. Explain the concept of API specification\n",
        "\n",
        "An API specification is a formal document or standard that describes how a particular API should behave, including its endpoints, request parameters, response formats, authentication methods, and error handling. It acts as a blueprint for developers to understand and interact with an API correctly.\n",
        "\n",
        "3. What is Flask, and why is it popular for building APIs\n",
        "\n",
        "Flask is a lightweight and flexible web framework for Python, designed to help developers build web applications and APIs quickly. It is based on the Werkzeug WSGI toolkit and Jinja2 template engine, making it a micro-framework (minimalistic yet powerful).\n",
        "\n",
        "4. What is routing in Flask\n",
        "\n",
        "Routing in Flask is the process of mapping URLs (routes) to specific functions that handle requests and return responses. It defines how users interact with the application through URLs.\n",
        "\n",
        "5. How do you create a simple Flask application\n",
        "\n",
        "Flask is a lightweight web framework in Python that allows you to build web applications and APIs quickly. Below are the steps to create a basic Flask application.\n",
        "\n",
        "6. What are HTTP methods used in RESTful APIs\n",
        "RESTful APIs use HTTP methods to perform CRUD (Create, Read, Update, Delete) operations. Below are the most commonly used HTTP methods in REST APIs:\n",
        "\n",
        "GET – Retrieve data from a resource.\n",
        "\n",
        "POST – Create a new resource.\n",
        "\n",
        "PUT – Update an existing resource (full update).\n",
        "\n",
        "PATCH – Partially update a resource.\n",
        "\n",
        "DELETE – Remove a resource.\n",
        "\n",
        "HEAD – Retrieve headers without the response body.\n",
        "\n",
        "OPTIONS – Get allowed HTTP methods for a resource.\n",
        "\n",
        "7. What is the purpose of the @app.route() decorator in Flask\n",
        "\n",
        "The @app.route() decorator in Flask is used to define URL routes for handling requests in a web application. It maps a specific URL path to a Python function (view function), which executes when the route is accessed.\n",
        "\n",
        "8. What is the difference between GET and POST HTTP methods\n",
        "\n",
        "The GET and POST HTTP methods serve different purposes in RESTful APIs. GET is used to retrieve data from a server, and the data is sent as query parameters in the URL, making it visible in the browser's address bar. It is idempotent, meaning the same request will always produce the same response, and it can be cached for efficiency. However, GET is less secure since the data can be logged or bookmarked. On the other hand, POST is used to send data to the server, typically in the request body, making it more secure than GET. It is not idempotent, as multiple identical requests can create different outcomes, such as submitting a form multiple times. POST also allows for larger data payloads compared to GET. In Flask, the @app.route() decorator specifies the route and HTTP method to handle requests. GET is suitable for fetching data, like search results, while POST is ideal for submitting forms or creating new resources in an application.\n",
        "\n",
        "9. How do you handle errors in Flask APIs\n",
        "\n",
        "Error handling in Flask APIs ensures that users receive meaningful responses when something goes wrong. Flask provides built-in mechanisms and custom error handling using decorators and exceptions.\n",
        "\n",
        "10. How do you connect Flask to a SQL database\n",
        "\n",
        "Flask can be connected to a SQL database using SQLAlchemy, which is a powerful Object Relational Mapper (ORM) that allows interaction with databases using Python code instead of raw SQL queries. Below are the steps to connect Flask to a SQL database.\n",
        "\n",
        "Install Flask-SQLAlchemy\n",
        "Set Up Flask and SQLAlchemy\n",
        "Define a Database Model\n",
        "Create Database Tables\n",
        "Insert Data into the Database\n",
        "Retrieve Data from the Database\n",
        "Create API Endpoints to Interact with the Database\n",
        "\n",
        "11. What is the role of Flask-SQLAlchemy\n",
        "\n",
        "Flask-SQLAlchemy is an extension for Flask that simplifies database integration by providing an easy-to-use interface for working with relational databases using SQLAlchemy, the most popular Object Relational Mapper (ORM) in Python.\n",
        "\n",
        "12. What are Flask blueprints, and how are they useful\n",
        "\n",
        "Flask Blueprints provide a way to structure and organize large Flask applications by allowing developers to split the application into smaller, reusable modules. A Blueprint is like a mini-application that can have its own routes, views, templates, and static files while still being part of the main Flask app.\n",
        "\n",
        "13. What is the purpose of Flask's request object\n",
        "\n",
        "The request object in Flask is used to access incoming HTTP request data sent by a client (such as a browser or API client) to the Flask application. It provides methods and attributes to retrieve form data, JSON payloads, query parameters, file uploads, and other request-related information.\n",
        "\n",
        "14. How do you create a RESTful API endpoint using Flask\n",
        "\n",
        "A RESTful API endpoint in Flask allows clients to interact with a server using HTTP methods such as GET, POST, PUT, and DELETE. Flask is a lightweight web framework that makes it easy to build APIs with minimal code.\n",
        "\n",
        "15. What is the purpose of Flask's jsonify() function\n",
        "\n",
        "In Flask, the jsonify() function is used to convert Python data structures (such as dictionaries and lists) into a JSON (JavaScript Object Notation) response. JSON is a widely used format for data exchange between clients and servers in web applications.\n",
        "\n",
        "16. Explain Flask’s url_for() function\n",
        "\n",
        "The url_for() function in Flask is used to dynamically generate URLs for routes defined in a Flask application. Instead of hardcoding URLs, url_for() helps in building URLs based on the function name associated with a particular route. This makes applications more maintainable and flexible.\n",
        "\n",
        "17.  How does Flask handle static files (CSS, JavaScript, etc.)\n",
        "\n",
        "Flask provides a built-in mechanism for serving static files such as CSS, JavaScript, and images. By default, Flask looks for static files inside a folder named static in the root directory of the project.\n",
        "\n",
        "18. What is an API specification, and how does it help in building a Flask API\n",
        "\n",
        "An API specification is a structured document that defines how an API should behave, detailing its endpoints, request methods, request/response formats, authentication, and error handling. It serves as a contract between the API provider and consumers, ensuring consistency and predictability in API interactions.\n",
        "\n",
        "Common formats for API specifications include:\n",
        "\n",
        "OpenAPI (Swagger) – Most widely used, machine-readable format.\n",
        "\n",
        "RAML (RESTful API Modeling Language) – YAML-based API documentation.\n",
        "\n",
        "GraphQL Schema – Defines query types and structures for GraphQL APIs.\n",
        "\n",
        "19. What are HTTP status codes, and why are they important in a Flask API\n",
        "\n",
        "HTTP status codes are three-digit numeric responses sent by the server to indicate the outcome of an HTTP request. They provide crucial information about whether a request was successful, failed, or requires further action. These codes help developers and API consumers understand the state of an interaction between a client (such as a web browser or mobile app) and a server.\n",
        "\n",
        "HTTP status codes are grouped into five categories:\n",
        "\n",
        "1xx (Informational) – Request received, continuing process.\n",
        "\n",
        "2xx (Success) – Request successfully processed.\n",
        "\n",
        "3xx (Redirection) – Further action needed to complete the request.\n",
        "\n",
        "4xx (Client Errors) – Issues caused by the request (e.g., invalid input).\n",
        "\n",
        "5xx (Server Errors) – Issues on the server side.\n",
        "\n",
        "20. How do you handle POST requests in Flask\n",
        "\n",
        "In Flask, a POST request is used to send data from the client (e.g., a web page or an API consumer) to the server. It is commonly used for actions like submitting form data, creating new records in a database, or updating resources.\n",
        "\n",
        "21. How would you secure a Flask API\n",
        "\n",
        "Securing a Flask API is crucial to protect data, prevent unauthorized access, and ensure the integrity of the application. Below are several best practices to secure a Flask API effectively:\n",
        "\n",
        "Use HTTPS – Encrypts communication between client and server.\n",
        "\n",
        "Implement Authentication & Authorization – Use API keys, JWT, or OAuth2.\n",
        "\n",
        "Input Validation & Sanitization – Prevent SQL injection and XSS attacks.\n",
        "\n",
        "Rate Limiting – Prevent abuse with Flask-Limiter.\n",
        "\n",
        "Secure API Endpoints with CORS – Restrict access to specific domains.\n",
        "\n",
        "Protect Against CSRF (Cross-Site Request Forgery) – Use CSRF tokens.\n",
        "\n",
        "Hide Sensitive Information – Store secrets in environment variables.\n",
        "\n",
        "Secure API Headers – Use Flask-Talisman for security headers.\n",
        "\n",
        "Use Logging for Security Monitoring – Track unauthorized access.\n",
        "\n",
        "Deploy Securely – Use Gunicorn, NGINX, and Docker for safe deployment.\n",
        "\n",
        "22. What is the significance of the Flask-RESTful extension\n",
        "\n",
        "Flask-RESTful is an extension for Flask that simplifies the creation of RESTful APIs by providing tools and conventions for building API endpoints efficiently. It enhances Flask by offering features such as request parsing, resource-based routing, automatic data serialization, and support for standard HTTP methods (GET, POST, PUT, DELETE). The extension also integrates with Flask’s existing request handling system, making it easier to manage API responses, error handling, and input validation. By using Flask-RESTful, developers can write cleaner, more maintainable, and scalable API code with minimal boilerplate.\n",
        "\n",
        "23. What is the role of Flask’s session object\n",
        "\n",
        "Flask’s session object is used to store user-specific data across multiple requests. It allows you to persist information such as authentication details, user preferences, or temporary data between requests without requiring the user to log in repeatedly.\n",
        "\n",
        "Unlike cookies, which store data on the client side, Flask’s session uses secure, signed cookies to prevent tampering. The data is stored on the client but cryptographically signed using a secret key (app.secret_key), ensuring that it cannot be modified without detection."
      ],
      "metadata": {
        "id": "8vCyVz6SiXkx"
      }
    },
    {
      "cell_type": "markdown",
      "source": [
        "**Practical Questions**"
      ],
      "metadata": {
        "id": "lSzA0XrxrDLV"
      }
    },
    {
      "cell_type": "code",
      "source": [
        "#1. M How do you create a basic Flask application\n",
        "from flask import Flask\n",
        "\n",
        "# Initialize Flask app\n",
        "app = Flask(__name__)\n",
        "\n",
        "# Define a route and corresponding function\n",
        "@app.route(\"/\")\n",
        "def home():\n",
        "    return \"Hello, Flask!\"\n",
        "\n",
        "# Run the application\n",
        "if __name__ == \"__main__\":\n",
        "    app.run(debug=True)\n",
        "\n"
      ],
      "metadata": {
        "colab": {
          "base_uri": "https://localhost:8080/"
        },
        "id": "eTXak0yXrGAB",
        "outputId": "c970dbb0-5075-400f-ddbe-1db2177a2472"
      },
      "execution_count": null,
      "outputs": [
        {
          "output_type": "stream",
          "name": "stdout",
          "text": [
            " * Serving Flask app '__main__'\n",
            " * Debug mode: on\n"
          ]
        },
        {
          "output_type": "stream",
          "name": "stderr",
          "text": [
            "INFO:werkzeug:\u001b[31m\u001b[1mWARNING: This is a development server. Do not use it in a production deployment. Use a production WSGI server instead.\u001b[0m\n",
            " * Running on http://127.0.0.1:5000\n",
            "INFO:werkzeug:\u001b[33mPress CTRL+C to quit\u001b[0m\n",
            "INFO:werkzeug: * Restarting with stat\n"
          ]
        }
      ]
    },
    {
      "cell_type": "code",
      "source": [
        "#2.  How do you serve static files like images or CSS in Flask\n",
        "\n",
        "from flask import Flask, send_from_directory\n",
        "\n",
        "app = Flask(__name__)\n",
        "\n",
        "@app.route('/static/<path:filename>')\n",
        "def serve_static(filename):\n",
        "    return send_from_directory('static', filename)\n",
        "\n",
        "if __name__ == \"__main__\":\n",
        "    app.run(debug=True)\n"
      ],
      "metadata": {
        "colab": {
          "base_uri": "https://localhost:8080/"
        },
        "id": "nFQvDUtdrRCU",
        "outputId": "ee0a7e4f-cfae-4552-f122-0cf86e9079e7"
      },
      "execution_count": null,
      "outputs": [
        {
          "output_type": "stream",
          "name": "stdout",
          "text": [
            " * Serving Flask app '__main__'\n",
            " * Debug mode: on\n"
          ]
        },
        {
          "output_type": "stream",
          "name": "stderr",
          "text": [
            "INFO:werkzeug:\u001b[31m\u001b[1mWARNING: This is a development server. Do not use it in a production deployment. Use a production WSGI server instead.\u001b[0m\n",
            " * Running on http://127.0.0.1:5000\n",
            "INFO:werkzeug:\u001b[33mPress CTRL+C to quit\u001b[0m\n",
            "INFO:werkzeug: * Restarting with stat\n"
          ]
        }
      ]
    },
    {
      "cell_type": "code",
      "source": [
        "#3. How do you define different routes with different HTTP methods in Flask\n",
        "\n",
        "!pip install flask\n"
      ],
      "metadata": {
        "colab": {
          "base_uri": "https://localhost:8080/"
        },
        "id": "77baaCwzryOP",
        "outputId": "b8fb86de-d809-41e1-f7ee-cbd41a364cd4"
      },
      "execution_count": null,
      "outputs": [
        {
          "output_type": "stream",
          "name": "stdout",
          "text": [
            "Requirement already satisfied: flask in /usr/local/lib/python3.11/dist-packages (3.1.0)\n",
            "Requirement already satisfied: Werkzeug>=3.1 in /usr/local/lib/python3.11/dist-packages (from flask) (3.1.3)\n",
            "Requirement already satisfied: Jinja2>=3.1.2 in /usr/local/lib/python3.11/dist-packages (from flask) (3.1.6)\n",
            "Requirement already satisfied: itsdangerous>=2.2 in /usr/local/lib/python3.11/dist-packages (from flask) (2.2.0)\n",
            "Requirement already satisfied: click>=8.1.3 in /usr/local/lib/python3.11/dist-packages (from flask) (8.1.8)\n",
            "Requirement already satisfied: blinker>=1.9 in /usr/local/lib/python3.11/dist-packages (from flask) (1.9.0)\n",
            "Requirement already satisfied: MarkupSafe>=2.0 in /usr/local/lib/python3.11/dist-packages (from Jinja2>=3.1.2->flask) (3.0.2)\n"
          ]
        }
      ]
    },
    {
      "cell_type": "code",
      "source": [
        "from flask import Flask, render_template\n",
        "\n",
        "app = Flask(__name__)\n",
        "\n",
        "@app.route('/')\n",
        "def home():\n",
        "    return render_template('index.html')\n",
        "\n",
        "if __name__ == '__main__':\n",
        "    app.run(debug=True)\n"
      ],
      "metadata": {
        "colab": {
          "base_uri": "https://localhost:8080/"
        },
        "id": "ZvPSEyB0r-Um",
        "outputId": "e9283a65-1ea4-469c-93ca-a4c05ac40bbb"
      },
      "execution_count": null,
      "outputs": [
        {
          "output_type": "stream",
          "name": "stdout",
          "text": [
            " * Serving Flask app '__main__'\n",
            " * Debug mode: on\n"
          ]
        },
        {
          "output_type": "stream",
          "name": "stderr",
          "text": [
            "INFO:werkzeug:\u001b[31m\u001b[1mWARNING: This is a development server. Do not use it in a production deployment. Use a production WSGI server instead.\u001b[0m\n",
            " * Running on http://127.0.0.1:5000\n",
            "INFO:werkzeug:\u001b[33mPress CTRL+C to quit\u001b[0m\n",
            "INFO:werkzeug: * Restarting with stat\n"
          ]
        }
      ]
    },
    {
      "cell_type": "code",
      "source": [
        "#4. How do you render HTML templates in Flask\n",
        "\n",
        "from flask import Flask, render_template\n",
        "\n",
        "app = Flask(__name__)\n",
        "\n",
        "@app.route(\"/\")\n",
        "def home():\n",
        "    return render_template(\"index.html\")  # Renders 'index.html' from templates folder\n",
        "\n",
        "if __name__ == \"__main__\":\n",
        "    app.run(debug=True)\n",
        "\n",
        "\n"
      ],
      "metadata": {
        "id": "BszIUrewsaUW"
      },
      "execution_count": null,
      "outputs": []
    },
    {
      "cell_type": "code",
      "source": [
        "#5. How can you generate URLs for routes in Flask using url_for\n",
        "\n",
        "from flask import Flask, url_for\n",
        "\n",
        "app = Flask(__name__)\n",
        "\n",
        "@app.route('/')\n",
        "def home():\n",
        "    return \"Welcome to the Home Page!\"\n",
        "\n",
        "@app.route('/profile/<username>')\n",
        "def profile(username):\n",
        "    return f\"Profile page of {username}\"\n",
        "\n",
        "with app.test_request_context():\n",
        "    print(url_for('home'))  # Output: '/'\n",
        "    print(url_for('profile', username='John'))  # Output: '/profile/John'\n"
      ],
      "metadata": {
        "colab": {
          "base_uri": "https://localhost:8080/"
        },
        "id": "PlLJAuFKspoA",
        "outputId": "c36572b2-dc9e-4513-f2cf-e9cdb2f497d3"
      },
      "execution_count": null,
      "outputs": [
        {
          "output_type": "stream",
          "name": "stdout",
          "text": [
            "/\n",
            "/profile/John\n"
          ]
        }
      ]
    },
    {
      "cell_type": "code",
      "source": [
        "# 6.How do you handle forms in Flask\n",
        "\n",
        "from flask import Flask, request, jsonify\n",
        "\n",
        "app = Flask(__name__)\n",
        "\n",
        "@app.route(\"/submit\", methods=[\"POST\"])\n",
        "def submit():\n",
        "    data = request.json  # Get JSON data from AJAX request\n",
        "    username = data[\"username\"]\n",
        "    return jsonify({\"message\": f\"Hello, {username}!\"})\n",
        "\n",
        "if __name__ == \"__main__\":\n",
        "    app.run(debug=True)\n"
      ],
      "metadata": {
        "id": "GIgAqgz7sykm",
        "colab": {
          "base_uri": "https://localhost:8080/"
        },
        "outputId": "ab92097f-b864-43f9-d64b-43ae0729d317"
      },
      "execution_count": 3,
      "outputs": [
        {
          "output_type": "stream",
          "name": "stdout",
          "text": [
            " * Serving Flask app '__main__'\n",
            " * Debug mode: on\n"
          ]
        },
        {
          "output_type": "stream",
          "name": "stderr",
          "text": [
            "INFO:werkzeug:\u001b[31m\u001b[1mWARNING: This is a development server. Do not use it in a production deployment. Use a production WSGI server instead.\u001b[0m\n",
            " * Running on http://127.0.0.1:5000\n",
            "INFO:werkzeug:\u001b[33mPress CTRL+C to quit\u001b[0m\n",
            "INFO:werkzeug: * Restarting with stat\n"
          ]
        }
      ]
    },
    {
      "cell_type": "code",
      "source": [
        "#7. M How can you validate form data in Flask\n",
        "\n",
        "!pip install flask flask-ngrok\n",
        "\n",
        "# Import required modules\n",
        "from flask import Flask, request, render_template_string\n",
        "from flask_ngrok import run_with_ngrok\n",
        "\n",
        "# Initialize Flask app\n",
        "app = Flask(__name__)\n",
        "run_with_ngrok(app)  # Required to expose Flask in Colab\n",
        "\n",
        "# Define a basic form handling route\n",
        "@app.route(\"/\", methods=[\"GET\", \"POST\"])\n",
        "def form():\n",
        "    if request.method == \"POST\":\n",
        "        name = request.form.get(\"name\")\n",
        "        return f\"<h2>Hello, {name}! Form submitted successfully.</h2>\"\n",
        "\n",
        "    # Using render_template_string to avoid using external HTML files\n",
        "    return render_template_string(\"\"\"\n",
        "        <form method=\"post\">\n",
        "            <label>Name:</label>\n",
        "            <input type=\"text\" name=\"name\" required>\n",
        "            <input type=\"submit\" value=\"Submit\">\n",
        "        </form>\n",
        "    \"\"\")\n",
        "\n",
        "# Run Flask App\n",
        "app.run()"
      ],
      "metadata": {
        "colab": {
          "base_uri": "https://localhost:8080/"
        },
        "id": "EMTNsjwLH052",
        "outputId": "c80ba527-982a-4238-8b37-f3539e8710be"
      },
      "execution_count": 6,
      "outputs": [
        {
          "output_type": "stream",
          "name": "stdout",
          "text": [
            "Requirement already satisfied: flask in /usr/local/lib/python3.11/dist-packages (3.1.0)\n",
            "Requirement already satisfied: flask-ngrok in /usr/local/lib/python3.11/dist-packages (0.0.25)\n",
            "Requirement already satisfied: Werkzeug>=3.1 in /usr/local/lib/python3.11/dist-packages (from flask) (3.1.3)\n",
            "Requirement already satisfied: Jinja2>=3.1.2 in /usr/local/lib/python3.11/dist-packages (from flask) (3.1.6)\n",
            "Requirement already satisfied: itsdangerous>=2.2 in /usr/local/lib/python3.11/dist-packages (from flask) (2.2.0)\n",
            "Requirement already satisfied: click>=8.1.3 in /usr/local/lib/python3.11/dist-packages (from flask) (8.1.8)\n",
            "Requirement already satisfied: blinker>=1.9 in /usr/local/lib/python3.11/dist-packages (from flask) (1.9.0)\n",
            "Requirement already satisfied: requests in /usr/local/lib/python3.11/dist-packages (from flask-ngrok) (2.32.3)\n",
            "Requirement already satisfied: MarkupSafe>=2.0 in /usr/local/lib/python3.11/dist-packages (from Jinja2>=3.1.2->flask) (3.0.2)\n",
            "Requirement already satisfied: charset-normalizer<4,>=2 in /usr/local/lib/python3.11/dist-packages (from requests->flask-ngrok) (3.4.1)\n",
            "Requirement already satisfied: idna<4,>=2.5 in /usr/local/lib/python3.11/dist-packages (from requests->flask-ngrok) (3.10)\n",
            "Requirement already satisfied: urllib3<3,>=1.21.1 in /usr/local/lib/python3.11/dist-packages (from requests->flask-ngrok) (2.3.0)\n",
            "Requirement already satisfied: certifi>=2017.4.17 in /usr/local/lib/python3.11/dist-packages (from requests->flask-ngrok) (2025.1.31)\n",
            " * Serving Flask app '__main__'\n",
            " * Debug mode: off\n"
          ]
        },
        {
          "output_type": "stream",
          "name": "stderr",
          "text": [
            "INFO:werkzeug:\u001b[31m\u001b[1mWARNING: This is a development server. Do not use it in a production deployment. Use a production WSGI server instead.\u001b[0m\n",
            " * Running on http://127.0.0.1:5000\n",
            "INFO:werkzeug:\u001b[33mPress CTRL+C to quit\u001b[0m\n",
            "Exception in thread Thread-9:\n",
            "Traceback (most recent call last):\n",
            "  File \"/usr/local/lib/python3.11/dist-packages/urllib3/connection.py\", line 198, in _new_conn\n",
            "    sock = connection.create_connection(\n",
            "           ^^^^^^^^^^^^^^^^^^^^^^^^^^^^^\n",
            "  File \"/usr/local/lib/python3.11/dist-packages/urllib3/util/connection.py\", line 85, in create_connection\n",
            "    raise err\n",
            "  File \"/usr/local/lib/python3.11/dist-packages/urllib3/util/connection.py\", line 73, in create_connection\n",
            "    sock.connect(sa)\n",
            "ConnectionRefusedError: [Errno 111] Connection refused\n",
            "\n",
            "The above exception was the direct cause of the following exception:\n",
            "\n",
            "Traceback (most recent call last):\n",
            "  File \"/usr/local/lib/python3.11/dist-packages/urllib3/connectionpool.py\", line 787, in urlopen\n",
            "    response = self._make_request(\n",
            "               ^^^^^^^^^^^^^^^^^^^\n",
            "  File \"/usr/local/lib/python3.11/dist-packages/urllib3/connectionpool.py\", line 493, in _make_request\n",
            "    conn.request(\n",
            "  File \"/usr/local/lib/python3.11/dist-packages/urllib3/connection.py\", line 445, in request\n",
            "    self.endheaders()\n",
            "  File \"/usr/lib/python3.11/http/client.py\", line 1298, in endheaders\n",
            "    self._send_output(message_body, encode_chunked=encode_chunked)\n",
            "  File \"/usr/lib/python3.11/http/client.py\", line 1058, in _send_output\n",
            "    self.send(msg)\n",
            "  File \"/usr/lib/python3.11/http/client.py\", line 996, in send\n",
            "    self.connect()\n",
            "  File \"/usr/local/lib/python3.11/dist-packages/urllib3/connection.py\", line 276, in connect\n",
            "    self.sock = self._new_conn()\n",
            "                ^^^^^^^^^^^^^^^^\n",
            "  File \"/usr/local/lib/python3.11/dist-packages/urllib3/connection.py\", line 213, in _new_conn\n",
            "    raise NewConnectionError(\n",
            "urllib3.exceptions.NewConnectionError: <urllib3.connection.HTTPConnection object at 0x7e2cf4752e50>: Failed to establish a new connection: [Errno 111] Connection refused\n",
            "\n",
            "The above exception was the direct cause of the following exception:\n",
            "\n",
            "Traceback (most recent call last):\n",
            "  File \"/usr/local/lib/python3.11/dist-packages/requests/adapters.py\", line 667, in send\n",
            "    resp = conn.urlopen(\n",
            "           ^^^^^^^^^^^^^\n",
            "  File \"/usr/local/lib/python3.11/dist-packages/urllib3/connectionpool.py\", line 841, in urlopen\n",
            "    retries = retries.increment(\n",
            "              ^^^^^^^^^^^^^^^^^^\n",
            "  File \"/usr/local/lib/python3.11/dist-packages/urllib3/util/retry.py\", line 519, in increment\n",
            "    raise MaxRetryError(_pool, url, reason) from reason  # type: ignore[arg-type]\n",
            "    ^^^^^^^^^^^^^^^^^^^^^^^^^^^^^^^^^^^^^^^^^^^^^^^^^^^\n",
            "urllib3.exceptions.MaxRetryError: HTTPConnectionPool(host='localhost', port=4040): Max retries exceeded with url: /api/tunnels (Caused by NewConnectionError('<urllib3.connection.HTTPConnection object at 0x7e2cf4752e50>: Failed to establish a new connection: [Errno 111] Connection refused'))\n",
            "\n",
            "During handling of the above exception, another exception occurred:\n",
            "\n",
            "Traceback (most recent call last):\n",
            "  File \"/usr/lib/python3.11/threading.py\", line 1045, in _bootstrap_inner\n",
            "    self.run()\n",
            "  File \"/usr/lib/python3.11/threading.py\", line 1401, in run\n",
            "    self.function(*self.args, **self.kwargs)\n",
            "  File \"/usr/local/lib/python3.11/dist-packages/flask_ngrok.py\", line 70, in start_ngrok\n",
            "    ngrok_address = _run_ngrok()\n",
            "                    ^^^^^^^^^^^^\n",
            "  File \"/usr/local/lib/python3.11/dist-packages/flask_ngrok.py\", line 35, in _run_ngrok\n",
            "    tunnel_url = requests.get(localhost_url).text  # Get the tunnel information\n",
            "                 ^^^^^^^^^^^^^^^^^^^^^^^^^^^\n",
            "  File \"/usr/local/lib/python3.11/dist-packages/requests/api.py\", line 73, in get\n",
            "    return request(\"get\", url, params=params, **kwargs)\n",
            "           ^^^^^^^^^^^^^^^^^^^^^^^^^^^^^^^^^^^^^^^^^^^^\n",
            "  File \"/usr/local/lib/python3.11/dist-packages/requests/api.py\", line 59, in request\n",
            "    return session.request(method=method, url=url, **kwargs)\n",
            "           ^^^^^^^^^^^^^^^^^^^^^^^^^^^^^^^^^^^^^^^^^^^^^^^^^\n",
            "  File \"/usr/local/lib/python3.11/dist-packages/requests/sessions.py\", line 589, in request\n",
            "    resp = self.send(prep, **send_kwargs)\n",
            "           ^^^^^^^^^^^^^^^^^^^^^^^^^^^^^^\n",
            "  File \"/usr/local/lib/python3.11/dist-packages/requests/sessions.py\", line 703, in send\n",
            "    r = adapter.send(request, **kwargs)\n",
            "        ^^^^^^^^^^^^^^^^^^^^^^^^^^^^^^^\n",
            "  File \"/usr/local/lib/python3.11/dist-packages/requests/adapters.py\", line 700, in send\n",
            "    raise ConnectionError(e, request=request)\n",
            "requests.exceptions.ConnectionError: HTTPConnectionPool(host='localhost', port=4040): Max retries exceeded with url: /api/tunnels (Caused by NewConnectionError('<urllib3.connection.HTTPConnection object at 0x7e2cf4752e50>: Failed to establish a new connection: [Errno 111] Connection refused'))\n"
          ]
        }
      ]
    },
    {
      "cell_type": "code",
      "source": [
        "#8. How do you manage sessions in Flask\n",
        "\n",
        "!pip install flask flask-ngrok\n"
      ],
      "metadata": {
        "colab": {
          "base_uri": "https://localhost:8080/"
        },
        "id": "N5vq9rwkI8RH",
        "outputId": "6530ab3f-aea6-46b3-ea01-209f35a4fa59"
      },
      "execution_count": 7,
      "outputs": [
        {
          "output_type": "stream",
          "name": "stdout",
          "text": [
            "Requirement already satisfied: flask in /usr/local/lib/python3.11/dist-packages (3.1.0)\n",
            "Requirement already satisfied: flask-ngrok in /usr/local/lib/python3.11/dist-packages (0.0.25)\n",
            "Requirement already satisfied: Werkzeug>=3.1 in /usr/local/lib/python3.11/dist-packages (from flask) (3.1.3)\n",
            "Requirement already satisfied: Jinja2>=3.1.2 in /usr/local/lib/python3.11/dist-packages (from flask) (3.1.6)\n",
            "Requirement already satisfied: itsdangerous>=2.2 in /usr/local/lib/python3.11/dist-packages (from flask) (2.2.0)\n",
            "Requirement already satisfied: click>=8.1.3 in /usr/local/lib/python3.11/dist-packages (from flask) (8.1.8)\n",
            "Requirement already satisfied: blinker>=1.9 in /usr/local/lib/python3.11/dist-packages (from flask) (1.9.0)\n",
            "Requirement already satisfied: requests in /usr/local/lib/python3.11/dist-packages (from flask-ngrok) (2.32.3)\n",
            "Requirement already satisfied: MarkupSafe>=2.0 in /usr/local/lib/python3.11/dist-packages (from Jinja2>=3.1.2->flask) (3.0.2)\n",
            "Requirement already satisfied: charset-normalizer<4,>=2 in /usr/local/lib/python3.11/dist-packages (from requests->flask-ngrok) (3.4.1)\n",
            "Requirement already satisfied: idna<4,>=2.5 in /usr/local/lib/python3.11/dist-packages (from requests->flask-ngrok) (3.10)\n",
            "Requirement already satisfied: urllib3<3,>=1.21.1 in /usr/local/lib/python3.11/dist-packages (from requests->flask-ngrok) (2.3.0)\n",
            "Requirement already satisfied: certifi>=2017.4.17 in /usr/local/lib/python3.11/dist-packages (from requests->flask-ngrok) (2025.1.31)\n"
          ]
        }
      ]
    },
    {
      "cell_type": "code",
      "source": [
        "from flask import Flask, session, request, redirect, url_for\n",
        "from flask_ngrok import run_with_ngrok\n",
        "from flask_session import Session\n",
        "\n",
        "app = Flask(__name__)\n",
        "run_with_ngrok(app)  # Allows Flask to run on Colab\n",
        "\n",
        "# Configure session to use the filesystem (persistent storage)\n",
        "app.config[\"SESSION_TYPE\"] = \"filesystem\"\n",
        "app.secret_key = \"your_secret_key\"  # Required for session security\n",
        "\n",
        "# Initialize session storage\n",
        "Session(app)\n",
        "\n",
        "@app.route(\"/\")\n",
        "def home():\n",
        "    username = session.get(\"username\", \"Guest\")\n",
        "    return f\"Welcome, {username}!\"\n",
        "\n",
        "@app.route(\"/login\", methods=[\"POST\"])\n",
        "def login():\n",
        "    session[\"username\"] = request.form.get(\"username\", \"User\")\n",
        "    return redirect(url_for(\"home\"))\n",
        "\n",
        "@app.route(\"/logout\")\n",
        "def logout():\n",
        "    session.pop(\"username\", None)  # Remove session data\n",
        "    return redirect(url_for(\"home\"))\n",
        "\n",
        "# Run Flask App\n",
        "app.run()\n"
      ],
      "metadata": {
        "colab": {
          "base_uri": "https://localhost:8080/",
          "height": 383
        },
        "id": "TzgG3UQCJgHo",
        "outputId": "bc3bc8f9-44c8-4fc2-e0e9-844f65f38bab"
      },
      "execution_count": 9,
      "outputs": [
        {
          "output_type": "error",
          "ename": "ModuleNotFoundError",
          "evalue": "No module named 'flask_session'",
          "traceback": [
            "\u001b[0;31m---------------------------------------------------------------------------\u001b[0m",
            "\u001b[0;31mModuleNotFoundError\u001b[0m                       Traceback (most recent call last)",
            "\u001b[0;32m<ipython-input-9-a244cbcba358>\u001b[0m in \u001b[0;36m<cell line: 0>\u001b[0;34m()\u001b[0m\n\u001b[1;32m      1\u001b[0m \u001b[0;32mfrom\u001b[0m \u001b[0mflask\u001b[0m \u001b[0;32mimport\u001b[0m \u001b[0mFlask\u001b[0m\u001b[0;34m,\u001b[0m \u001b[0msession\u001b[0m\u001b[0;34m,\u001b[0m \u001b[0mrequest\u001b[0m\u001b[0;34m,\u001b[0m \u001b[0mredirect\u001b[0m\u001b[0;34m,\u001b[0m \u001b[0murl_for\u001b[0m\u001b[0;34m\u001b[0m\u001b[0;34m\u001b[0m\u001b[0m\n\u001b[1;32m      2\u001b[0m \u001b[0;32mfrom\u001b[0m \u001b[0mflask_ngrok\u001b[0m \u001b[0;32mimport\u001b[0m \u001b[0mrun_with_ngrok\u001b[0m\u001b[0;34m\u001b[0m\u001b[0;34m\u001b[0m\u001b[0m\n\u001b[0;32m----> 3\u001b[0;31m \u001b[0;32mfrom\u001b[0m \u001b[0mflask_session\u001b[0m \u001b[0;32mimport\u001b[0m \u001b[0mSession\u001b[0m\u001b[0;34m\u001b[0m\u001b[0;34m\u001b[0m\u001b[0m\n\u001b[0m\u001b[1;32m      4\u001b[0m \u001b[0;34m\u001b[0m\u001b[0m\n\u001b[1;32m      5\u001b[0m \u001b[0mapp\u001b[0m \u001b[0;34m=\u001b[0m \u001b[0mFlask\u001b[0m\u001b[0;34m(\u001b[0m\u001b[0m__name__\u001b[0m\u001b[0;34m)\u001b[0m\u001b[0;34m\u001b[0m\u001b[0;34m\u001b[0m\u001b[0m\n",
            "\u001b[0;31mModuleNotFoundError\u001b[0m: No module named 'flask_session'",
            "",
            "\u001b[0;31m---------------------------------------------------------------------------\u001b[0;32m\nNOTE: If your import is failing due to a missing package, you can\nmanually install dependencies using either !pip or !apt.\n\nTo view examples of installing some common dependencies, click the\n\"Open Examples\" button below.\n\u001b[0;31m---------------------------------------------------------------------------\u001b[0m\n"
          ],
          "errorDetails": {
            "actions": [
              {
                "action": "open_url",
                "actionText": "Open Examples",
                "url": "/notebooks/snippets/importing_libraries.ipynb"
              }
            ]
          }
        }
      ]
    },
    {
      "cell_type": "code",
      "source": [
        "#9. How do you redirect to a different route in Flask\n",
        "from flask import Flask, redirect, url_for\n",
        "\n",
        "app = Flask(__name__)\n",
        "\n",
        "@app.route(\"/\")\n",
        "def home():\n",
        "    return \"Welcome to the Home Page!\"\n",
        "\n",
        "@app.route(\"/dashboard\")\n",
        "def dashboard():\n",
        "    return \"Welcome to the Dashboard!\"\n",
        "\n",
        "@app.route(\"/go-to-dashboard\")\n",
        "def go_to_dashboard():\n",
        "    return redirect(url_for(\"dashboard\"))  # Redirects to /dashboard\n",
        "\n",
        "if __name__ == \"__main__\":\n",
        "    app.run(debug=True)\n",
        "\n"
      ],
      "metadata": {
        "id": "y-N3IxxyJj4G"
      },
      "execution_count": null,
      "outputs": []
    },
    {
      "cell_type": "code",
      "source": [
        "#10. How do you handle errors in Flask (e.g., 404)\n",
        "\n",
        "from flask import abort\n",
        "\n",
        "@app.route(\"/admin\")\n",
        "def admin():\n",
        "    abort(403)  # Trigger a 403 Forbidden error\n",
        "\n",
        "@app.errorhandler(403)\n",
        "def forbidden(error):\n",
        "    return \"Access Denied! You don't have permission to view this page.\", 403\n"
      ],
      "metadata": {
        "id": "E_35-d8_K3o4"
      },
      "execution_count": null,
      "outputs": []
    },
    {
      "cell_type": "code",
      "source": [
        "#11. How do you structure a Flask app using Blueprints\n",
        "\n",
        "from flask import Flask\n",
        "\n",
        "def create_app():\n",
        "    app = Flask(__name__)\n",
        "\n",
        "    # Import Blueprints\n",
        "    from app.routes.home import home_bp\n",
        "    from app.routes.auth import auth_bp\n",
        "\n",
        "    # Register Blueprints\n",
        "    app.register_blueprint(home_bp)\n",
        "    app.register_blueprint(auth_bp, url_prefix=\"/auth\")  # Prefix for auth routes\n",
        "\n",
        "    return app\n"
      ],
      "metadata": {
        "id": "iKTK9s4-LOg7"
      },
      "execution_count": null,
      "outputs": []
    },
    {
      "cell_type": "code",
      "source": [
        "#12. How do you define a custom Jinja filter in Flask\n",
        "\n",
        "from flask import Flask, render_template\n",
        "\n",
        "app = Flask(__name__)\n",
        "\n",
        "# Custom Jinja Filter\n",
        "def capitalize_words(value):\n",
        "    return \" \".join(word.capitalize() for word in value.split())\n",
        "\n",
        "# Register Filter\n",
        "app.jinja_env.filters[\"capitalize_words\"] = capitalize_words\n",
        "\n",
        "@app.route(\"/\")\n",
        "def home():\n",
        "    text = \"hello world from flask\"\n",
        "    return render_template(\"index.html\", message=text)\n",
        "\n",
        "if __name__ == \"__main__\":\n",
        "    app.run(debug=True)\n"
      ],
      "metadata": {
        "id": "N1nzS2ewLaIK"
      },
      "execution_count": null,
      "outputs": []
    },
    {
      "cell_type": "code",
      "source": [
        "#13. How can you redirect with query parameters in Flask\n",
        "\n",
        "from flask import Flask, redirect, url_for, request\n",
        "\n",
        "app = Flask(__name__)\n",
        "\n",
        "@app.route(\"/\")\n",
        "def home():\n",
        "    return \"Welcome to the Home Page!\"\n",
        "\n",
        "@app.route(\"/redirect-example\")\n",
        "def redirect_example():\n",
        "    return redirect(url_for(\"target\", name=\"John\", age=30))  # Passing query params\n",
        "\n",
        "@app.route(\"/target\")\n",
        "def target():\n",
        "    name = request.args.get(\"name\", \"Guest\")\n",
        "    age = request.args.get(\"age\", \"Unknown\")\n",
        "    return f\"Hello {name}, your age is {age}!\"\n",
        "\n",
        "if __name__ == \"__main__\":\n",
        "    app.run(debug=True)\n"
      ],
      "metadata": {
        "id": "GBDpWTJmMiEh"
      },
      "execution_count": null,
      "outputs": []
    },
    {
      "cell_type": "code",
      "source": [
        "#14. How do you return JSON responses in Flask\n",
        "\n",
        "from flask import Flask, jsonify\n",
        "\n",
        "app = Flask(__name__)\n",
        "\n",
        "@app.route(\"/json\")\n",
        "def json_response():\n",
        "    data = {\"message\": \"Hello, Flask!\", \"status\": \"success\"}\n",
        "    return jsonify(data)\n",
        "\n",
        "if __name__ == \"__main__\":\n",
        "    app.run(debug=True)\n"
      ],
      "metadata": {
        "id": "n8s_Cg1pMqFY"
      },
      "execution_count": null,
      "outputs": []
    },
    {
      "cell_type": "code",
      "source": [
        "#15. from flask import Flask\n",
        "\n",
        "app = Flask(__name__)\n",
        "\n",
        "@app.route(\"/user/<name>\")  # Captures 'name' from the URL\n",
        "def greet_user(name):\n",
        "    return f\"Hello, {name}!\"\n",
        "\n",
        "if __name__ == \"__main__\":\n",
        "    app.run(debug=True)\n"
      ],
      "metadata": {
        "id": "dVp9ssvyMzkw"
      },
      "execution_count": null,
      "outputs": []
    },
    {
      "cell_type": "code",
      "source": [],
      "metadata": {
        "id": "-K61fGdVM7aD"
      },
      "execution_count": null,
      "outputs": []
    }
  ]
}